{
 "cells": [
  {
   "cell_type": "markdown",
   "id": "ec8b8e13",
   "metadata": {},
   "source": [
    "# Problema 9 "
   ]
  },
  {
   "cell_type": "code",
   "execution_count": 1,
   "id": "1aa29a84",
   "metadata": {},
   "outputs": [],
   "source": [
    "#install.packages(\"ISLR\")\n",
    "#install.packages(\"rstudioapi\")\n",
    "#install.packages(\"lmtest\")\n",
    "#install.packages(\"car\")"
   ]
  },
  {
   "cell_type": "code",
   "execution_count": 2,
   "id": "a8f948bf",
   "metadata": {},
   "outputs": [
    {
     "name": "stderr",
     "output_type": "stream",
     "text": [
      "Warning message:\n",
      "\"package 'ISLR' was built under R version 3.6.3\"Warning message:\n",
      "\"package 'rstudioapi' was built under R version 3.6.3\"Warning message:\n",
      "\"package 'lmtest' was built under R version 3.6.3\"Loading required package: zoo\n",
      "\n",
      "Attaching package: 'zoo'\n",
      "\n",
      "The following objects are masked from 'package:base':\n",
      "\n",
      "    as.Date, as.Date.numeric\n",
      "\n",
      "Loading required package: carData\n",
      "Warning message:\n",
      "\"package 'carData' was built under R version 3.6.3\""
     ]
    }
   ],
   "source": [
    "library(ISLR)\n",
    "library(rstudioapi)\n",
    "library(lmtest)\n",
    "library(car)"
   ]
  },
  {
   "cell_type": "code",
   "execution_count": 3,
   "id": "0364deca",
   "metadata": {},
   "outputs": [],
   "source": [
    "#?Carseats"
   ]
  },
  {
   "cell_type": "markdown",
   "id": "e8e8ed6b",
   "metadata": {},
   "source": [
    "### Punto 1 y 2"
   ]
  },
  {
   "cell_type": "code",
   "execution_count": 4,
   "id": "b75a80ed",
   "metadata": {},
   "outputs": [
    {
     "data": {
      "text/html": [
       "<table>\n",
       "<thead><tr><th scope=col>Sales</th><th scope=col>CompPrice</th><th scope=col>Income</th><th scope=col>Advertising</th><th scope=col>Population</th><th scope=col>Price</th><th scope=col>ShelveLoc</th><th scope=col>Age</th><th scope=col>Education</th><th scope=col>Urban</th><th scope=col>US</th></tr></thead>\n",
       "<tbody>\n",
       "\t<tr><td> 9.50 </td><td>138   </td><td> 73   </td><td>11    </td><td>276   </td><td>120   </td><td>Bad   </td><td>42    </td><td>17    </td><td>Yes   </td><td>Yes   </td></tr>\n",
       "\t<tr><td>11.22 </td><td>111   </td><td> 48   </td><td>16    </td><td>260   </td><td> 83   </td><td>Good  </td><td>65    </td><td>10    </td><td>Yes   </td><td>Yes   </td></tr>\n",
       "\t<tr><td>10.06 </td><td>113   </td><td> 35   </td><td>10    </td><td>269   </td><td> 80   </td><td>Medium</td><td>59    </td><td>12    </td><td>Yes   </td><td>Yes   </td></tr>\n",
       "\t<tr><td> 7.40 </td><td>117   </td><td>100   </td><td> 4    </td><td>466   </td><td> 97   </td><td>Medium</td><td>55    </td><td>14    </td><td>Yes   </td><td>Yes   </td></tr>\n",
       "\t<tr><td> 4.15 </td><td>141   </td><td> 64   </td><td> 3    </td><td>340   </td><td>128   </td><td>Bad   </td><td>38    </td><td>13    </td><td>Yes   </td><td>No    </td></tr>\n",
       "\t<tr><td>10.81 </td><td>124   </td><td>113   </td><td>13    </td><td>501   </td><td> 72   </td><td>Bad   </td><td>78    </td><td>16    </td><td>No    </td><td>Yes   </td></tr>\n",
       "</tbody>\n",
       "</table>\n"
      ],
      "text/latex": [
       "\\begin{tabular}{r|lllllllllll}\n",
       " Sales & CompPrice & Income & Advertising & Population & Price & ShelveLoc & Age & Education & Urban & US\\\\\n",
       "\\hline\n",
       "\t  9.50  & 138    &  73    & 11     & 276    & 120    & Bad    & 42     & 17     & Yes    & Yes   \\\\\n",
       "\t 11.22  & 111    &  48    & 16     & 260    &  83    & Good   & 65     & 10     & Yes    & Yes   \\\\\n",
       "\t 10.06  & 113    &  35    & 10     & 269    &  80    & Medium & 59     & 12     & Yes    & Yes   \\\\\n",
       "\t  7.40  & 117    & 100    &  4     & 466    &  97    & Medium & 55     & 14     & Yes    & Yes   \\\\\n",
       "\t  4.15  & 141    &  64    &  3     & 340    & 128    & Bad    & 38     & 13     & Yes    & No    \\\\\n",
       "\t 10.81  & 124    & 113    & 13     & 501    &  72    & Bad    & 78     & 16     & No     & Yes   \\\\\n",
       "\\end{tabular}\n"
      ],
      "text/markdown": [
       "\n",
       "| Sales | CompPrice | Income | Advertising | Population | Price | ShelveLoc | Age | Education | Urban | US |\n",
       "|---|---|---|---|---|---|---|---|---|---|---|\n",
       "|  9.50  | 138    |  73    | 11     | 276    | 120    | Bad    | 42     | 17     | Yes    | Yes    |\n",
       "| 11.22  | 111    |  48    | 16     | 260    |  83    | Good   | 65     | 10     | Yes    | Yes    |\n",
       "| 10.06  | 113    |  35    | 10     | 269    |  80    | Medium | 59     | 12     | Yes    | Yes    |\n",
       "|  7.40  | 117    | 100    |  4     | 466    |  97    | Medium | 55     | 14     | Yes    | Yes    |\n",
       "|  4.15  | 141    |  64    |  3     | 340    | 128    | Bad    | 38     | 13     | Yes    | No     |\n",
       "| 10.81  | 124    | 113    | 13     | 501    |  72    | Bad    | 78     | 16     | No     | Yes    |\n",
       "\n"
      ],
      "text/plain": [
       "  Sales CompPrice Income Advertising Population Price ShelveLoc Age Education\n",
       "1  9.50 138        73    11          276        120   Bad       42  17       \n",
       "2 11.22 111        48    16          260         83   Good      65  10       \n",
       "3 10.06 113        35    10          269         80   Medium    59  12       \n",
       "4  7.40 117       100     4          466         97   Medium    55  14       \n",
       "5  4.15 141        64     3          340        128   Bad       38  13       \n",
       "6 10.81 124       113    13          501         72   Bad       78  16       \n",
       "  Urban US \n",
       "1 Yes   Yes\n",
       "2 Yes   Yes\n",
       "3 Yes   Yes\n",
       "4 Yes   Yes\n",
       "5 Yes   No \n",
       "6 No    Yes"
      ]
     },
     "metadata": {},
     "output_type": "display_data"
    }
   ],
   "source": [
    "datos=Carseats\n",
    "head(datos)"
   ]
  },
  {
   "cell_type": "code",
   "execution_count": 5,
   "id": "72d0845d",
   "metadata": {},
   "outputs": [
    {
     "data": {
      "text/html": [
       "<table>\n",
       "<thead><tr><th scope=col>Sales</th><th scope=col>CompPrice</th><th scope=col>Income</th><th scope=col>Advertising</th><th scope=col>Population</th><th scope=col>Price</th><th scope=col>Age</th><th scope=col>Education</th></tr></thead>\n",
       "<tbody>\n",
       "\t<tr><td> 9.50</td><td>138  </td><td> 73  </td><td>11   </td><td>276  </td><td>120  </td><td>42   </td><td>17   </td></tr>\n",
       "\t<tr><td>11.22</td><td>111  </td><td> 48  </td><td>16   </td><td>260  </td><td> 83  </td><td>65   </td><td>10   </td></tr>\n",
       "\t<tr><td>10.06</td><td>113  </td><td> 35  </td><td>10   </td><td>269  </td><td> 80  </td><td>59   </td><td>12   </td></tr>\n",
       "\t<tr><td> 7.40</td><td>117  </td><td>100  </td><td> 4   </td><td>466  </td><td> 97  </td><td>55   </td><td>14   </td></tr>\n",
       "\t<tr><td> 4.15</td><td>141  </td><td> 64  </td><td> 3   </td><td>340  </td><td>128  </td><td>38   </td><td>13   </td></tr>\n",
       "\t<tr><td>10.81</td><td>124  </td><td>113  </td><td>13   </td><td>501  </td><td> 72  </td><td>78   </td><td>16   </td></tr>\n",
       "</tbody>\n",
       "</table>\n"
      ],
      "text/latex": [
       "\\begin{tabular}{r|llllllll}\n",
       " Sales & CompPrice & Income & Advertising & Population & Price & Age & Education\\\\\n",
       "\\hline\n",
       "\t  9.50 & 138   &  73   & 11    & 276   & 120   & 42    & 17   \\\\\n",
       "\t 11.22 & 111   &  48   & 16    & 260   &  83   & 65    & 10   \\\\\n",
       "\t 10.06 & 113   &  35   & 10    & 269   &  80   & 59    & 12   \\\\\n",
       "\t  7.40 & 117   & 100   &  4    & 466   &  97   & 55    & 14   \\\\\n",
       "\t  4.15 & 141   &  64   &  3    & 340   & 128   & 38    & 13   \\\\\n",
       "\t 10.81 & 124   & 113   & 13    & 501   &  72   & 78    & 16   \\\\\n",
       "\\end{tabular}\n"
      ],
      "text/markdown": [
       "\n",
       "| Sales | CompPrice | Income | Advertising | Population | Price | Age | Education |\n",
       "|---|---|---|---|---|---|---|---|\n",
       "|  9.50 | 138   |  73   | 11    | 276   | 120   | 42    | 17    |\n",
       "| 11.22 | 111   |  48   | 16    | 260   |  83   | 65    | 10    |\n",
       "| 10.06 | 113   |  35   | 10    | 269   |  80   | 59    | 12    |\n",
       "|  7.40 | 117   | 100   |  4    | 466   |  97   | 55    | 14    |\n",
       "|  4.15 | 141   |  64   |  3    | 340   | 128   | 38    | 13    |\n",
       "| 10.81 | 124   | 113   | 13    | 501   |  72   | 78    | 16    |\n",
       "\n"
      ],
      "text/plain": [
       "  Sales CompPrice Income Advertising Population Price Age Education\n",
       "1  9.50 138        73    11          276        120   42  17       \n",
       "2 11.22 111        48    16          260         83   65  10       \n",
       "3 10.06 113        35    10          269         80   59  12       \n",
       "4  7.40 117       100     4          466         97   55  14       \n",
       "5  4.15 141        64     3          340        128   38  13       \n",
       "6 10.81 124       113    13          501         72   78  16       "
      ]
     },
     "metadata": {},
     "output_type": "display_data"
    }
   ],
   "source": [
    "datos=datos[,-c(7,10,11)] #remove non-continuous variables\n",
    "head(datos)"
   ]
  },
  {
   "cell_type": "code",
   "execution_count": 6,
   "id": "343a929b",
   "metadata": {},
   "outputs": [
    {
     "data": {
      "text/plain": [
       "\n",
       "Call:\n",
       "lm(formula = datos$Sales ~ datos$CompPrice + datos$Income + datos$Advertising + \n",
       "    datos$Population + datos$Price + datos$Age + datos$Education)\n",
       "\n",
       "Residuals:\n",
       "    Min      1Q  Median      3Q     Max \n",
       "-5.0598 -1.3515 -0.1739  1.1331  4.8304 \n",
       "\n",
       "Coefficients:\n",
       "                    Estimate Std. Error t value Pr(>|t|)    \n",
       "(Intercept)        7.7076934  1.1176260   6.896 2.15e-11 ***\n",
       "datos$CompPrice    0.0939149  0.0078395  11.980  < 2e-16 ***\n",
       "datos$Income       0.0128717  0.0034757   3.703 0.000243 ***\n",
       "datos$Advertising  0.1308637  0.0151219   8.654  < 2e-16 ***\n",
       "datos$Population  -0.0001239  0.0006877  -0.180 0.857092    \n",
       "datos$Price       -0.0925226  0.0050521 -18.314  < 2e-16 ***\n",
       "datos$Age         -0.0449743  0.0060083  -7.485 4.75e-13 ***\n",
       "datos$Education   -0.0399844  0.0371257  -1.077 0.282142    \n",
       "---\n",
       "Signif. codes:  0 '***' 0.001 '**' 0.01 '*' 0.05 '.' 0.1 ' ' 1\n",
       "\n",
       "Residual standard error: 1.929 on 392 degrees of freedom\n",
       "Multiple R-squared:  0.5417,\tAdjusted R-squared:  0.5335 \n",
       "F-statistic: 66.18 on 7 and 392 DF,  p-value: < 2.2e-16\n"
      ]
     },
     "metadata": {},
     "output_type": "display_data"
    }
   ],
   "source": [
    "reg<-lm(datos$Sales~datos$CompPrice+datos$Income+datos$Advertising+datos$Population+datos$Price+datos$Age+datos$Education)\n",
    "resumen = summary(reg)\n",
    "resumen"
   ]
  },
  {
   "cell_type": "code",
   "execution_count": 7,
   "id": "f6b0e62b",
   "metadata": {},
   "outputs": [
    {
     "data": {
      "text/html": [
       "<table>\n",
       "<thead><tr><th></th><th scope=col>Df</th><th scope=col>Sum Sq</th><th scope=col>Mean Sq</th><th scope=col>F value</th><th scope=col>Pr(&gt;F)</th></tr></thead>\n",
       "<tbody>\n",
       "\t<tr><th scope=row>datos$CompPrice</th><td>  1         </td><td>  13.0666859</td><td>  13.0666859</td><td>  3.5117751 </td><td>6.167778e-02</td></tr>\n",
       "\t<tr><th scope=row>datos$Income</th><td>  1         </td><td>  79.0733616</td><td>  79.0733616</td><td> 21.2515906 </td><td>5.458487e-06</td></tr>\n",
       "\t<tr><th scope=row>datos$Advertising</th><td>  1         </td><td> 219.3512681</td><td> 219.3512681</td><td> 58.9523862 </td><td>1.300900e-13</td></tr>\n",
       "\t<tr><th scope=row>datos$Population</th><td>  1         </td><td>   0.3824026</td><td>   0.3824026</td><td>  0.1027737 </td><td>7.486970e-01</td></tr>\n",
       "\t<tr><th scope=row>datos$Price</th><td>  1         </td><td>1198.8668836</td><td>1198.8668836</td><td>322.2049460 </td><td>5.144277e-53</td></tr>\n",
       "\t<tr><th scope=row>datos$Age</th><td>  1         </td><td> 208.6564283</td><td> 208.6564283</td><td> 56.0780635 </td><td>4.652175e-13</td></tr>\n",
       "\t<tr><th scope=row>datos$Education</th><td>  1         </td><td>   4.3158913</td><td>   4.3158913</td><td>  1.1599299 </td><td>2.821424e-01</td></tr>\n",
       "\t<tr><th scope=row>Residuals</th><td>392         </td><td>1458.5617763</td><td>   3.7208209</td><td>         NA </td><td>          NA</td></tr>\n",
       "</tbody>\n",
       "</table>\n"
      ],
      "text/latex": [
       "\\begin{tabular}{r|lllll}\n",
       "  & Df & Sum Sq & Mean Sq & F value & Pr(>F)\\\\\n",
       "\\hline\n",
       "\tdatos\\$CompPrice &   1          &   13.0666859 &   13.0666859 &   3.5117751  & 6.167778e-02\\\\\n",
       "\tdatos\\$Income &   1          &   79.0733616 &   79.0733616 &  21.2515906  & 5.458487e-06\\\\\n",
       "\tdatos\\$Advertising &   1          &  219.3512681 &  219.3512681 &  58.9523862  & 1.300900e-13\\\\\n",
       "\tdatos\\$Population &   1          &    0.3824026 &    0.3824026 &   0.1027737  & 7.486970e-01\\\\\n",
       "\tdatos\\$Price &   1          & 1198.8668836 & 1198.8668836 & 322.2049460  & 5.144277e-53\\\\\n",
       "\tdatos\\$Age &   1          &  208.6564283 &  208.6564283 &  56.0780635  & 4.652175e-13\\\\\n",
       "\tdatos\\$Education &   1          &    4.3158913 &    4.3158913 &   1.1599299  & 2.821424e-01\\\\\n",
       "\tResiduals & 392          & 1458.5617763 &    3.7208209 &          NA  &           NA\\\\\n",
       "\\end{tabular}\n"
      ],
      "text/markdown": [
       "\n",
       "| <!--/--> | Df | Sum Sq | Mean Sq | F value | Pr(>F) |\n",
       "|---|---|---|---|---|---|\n",
       "| datos$CompPrice |   1          |   13.0666859 |   13.0666859 |   3.5117751  | 6.167778e-02 |\n",
       "| datos$Income |   1          |   79.0733616 |   79.0733616 |  21.2515906  | 5.458487e-06 |\n",
       "| datos$Advertising |   1          |  219.3512681 |  219.3512681 |  58.9523862  | 1.300900e-13 |\n",
       "| datos$Population |   1          |    0.3824026 |    0.3824026 |   0.1027737  | 7.486970e-01 |\n",
       "| datos$Price |   1          | 1198.8668836 | 1198.8668836 | 322.2049460  | 5.144277e-53 |\n",
       "| datos$Age |   1          |  208.6564283 |  208.6564283 |  56.0780635  | 4.652175e-13 |\n",
       "| datos$Education |   1          |    4.3158913 |    4.3158913 |   1.1599299  | 2.821424e-01 |\n",
       "| Residuals | 392          | 1458.5617763 |    3.7208209 |          NA  |           NA |\n",
       "\n"
      ],
      "text/plain": [
       "                  Df  Sum Sq       Mean Sq      F value     Pr(>F)      \n",
       "datos$CompPrice     1   13.0666859   13.0666859   3.5117751 6.167778e-02\n",
       "datos$Income        1   79.0733616   79.0733616  21.2515906 5.458487e-06\n",
       "datos$Advertising   1  219.3512681  219.3512681  58.9523862 1.300900e-13\n",
       "datos$Population    1    0.3824026    0.3824026   0.1027737 7.486970e-01\n",
       "datos$Price         1 1198.8668836 1198.8668836 322.2049460 5.144277e-53\n",
       "datos$Age           1  208.6564283  208.6564283  56.0780635 4.652175e-13\n",
       "datos$Education     1    4.3158913    4.3158913   1.1599299 2.821424e-01\n",
       "Residuals         392 1458.5617763    3.7208209          NA           NA"
      ]
     },
     "metadata": {},
     "output_type": "display_data"
    }
   ],
   "source": [
    "aov=anova(reg)\n",
    "aov"
   ]
  },
  {
   "cell_type": "code",
   "execution_count": 41,
   "id": "9aab60ad",
   "metadata": {},
   "outputs": [
    {
     "data": {
      "text/html": [
       "1.96603410734874"
      ],
      "text/latex": [
       "1.96603410734874"
      ],
      "text/markdown": [
       "1.96603410734874"
      ],
      "text/plain": [
       "[1] 1.966034"
      ]
     },
     "metadata": {},
     "output_type": "display_data"
    }
   ],
   "source": [
    "tval= resumen$coefficients[7,3]\n",
    "qt(1-(0.05/2),df=reg$df.residual)"
   ]
  },
  {
   "cell_type": "code",
   "execution_count": 9,
   "id": "85885403",
   "metadata": {},
   "outputs": [
    {
     "data": {
      "text/html": [
       "4.75175454539567e-13"
      ],
      "text/latex": [
       "4.75175454539567e-13"
      ],
      "text/markdown": [
       "4.75175454539567e-13"
      ],
      "text/plain": [
       "[1] 4.751755e-13"
      ]
     },
     "metadata": {},
     "output_type": "display_data"
    }
   ],
   "source": [
    "(1-pt(abs(tval),df=reg$df.residual))*2"
   ]
  },
  {
   "cell_type": "markdown",
   "id": "a2c9bb36",
   "metadata": {},
   "source": [
    "### Punto 3"
   ]
  },
  {
   "cell_type": "code",
   "execution_count": 24,
   "id": "1c607038",
   "metadata": {},
   "outputs": [
    {
     "data": {
      "text/html": [
       "0.217445028301012"
      ],
      "text/latex": [
       "0.217445028301012"
      ],
      "text/markdown": [
       "0.217445028301012"
      ],
      "text/plain": [
       "[1] 0.217445"
      ]
     },
     "metadata": {},
     "output_type": "display_data"
    }
   ],
   "source": [
    "var=c(0,1,0,0,0,1,0,0)\n",
    "theta=t(var)%*%reg$coefficients\n",
    "MSE=aov$`Mean Sq`[8]\n",
    "d=rep(1,400)\n",
    "X=as.matrix(cbind(d,datos[,-1]))\n",
    "XT=t(X)\n",
    "XTX=XT%*%X\n",
    "inversa=solve(XTX)\n",
    "EP3=theta/sqrt(MSE%*%(t(var) %*% inversa %*%var))\n",
    "EP3=EP3[1,1]\n",
    "EP3"
   ]
  },
  {
   "cell_type": "markdown",
   "id": "1a4c159b",
   "metadata": {},
   "source": [
    "### Punto 4"
   ]
  },
  {
   "cell_type": "code",
   "execution_count": 16,
   "id": "c4d7ad87",
   "metadata": {},
   "outputs": [
    {
     "data": {
      "text/html": [
       "<table>\n",
       "<thead><tr><th scope=col>Res.Df</th><th scope=col>RSS</th><th scope=col>Df</th><th scope=col>Sum of Sq</th><th scope=col>F</th><th scope=col>Pr(&gt;F)</th></tr></thead>\n",
       "<tbody>\n",
       "\t<tr><td>395         </td><td>1671.898    </td><td>NA          </td><td>      NA    </td><td>      NA    </td><td>          NA</td></tr>\n",
       "\t<tr><td>392         </td><td>1458.562    </td><td> 3          </td><td>213.3366    </td><td>19.11196    </td><td>1.379822e-11</td></tr>\n",
       "</tbody>\n",
       "</table>\n"
      ],
      "text/latex": [
       "\\begin{tabular}{r|llllll}\n",
       " Res.Df & RSS & Df & Sum of Sq & F & Pr(>F)\\\\\n",
       "\\hline\n",
       "\t 395          & 1671.898     & NA           &       NA     &       NA     &           NA\\\\\n",
       "\t 392          & 1458.562     &  3           & 213.3366     & 19.11196     & 1.379822e-11\\\\\n",
       "\\end{tabular}\n"
      ],
      "text/markdown": [
       "\n",
       "| Res.Df | RSS | Df | Sum of Sq | F | Pr(>F) |\n",
       "|---|---|---|---|---|---|\n",
       "| 395          | 1671.898     | NA           |       NA     |       NA     |           NA |\n",
       "| 392          | 1458.562     |  3           | 213.3366     | 19.11196     | 1.379822e-11 |\n",
       "\n"
      ],
      "text/plain": [
       "  Res.Df RSS      Df Sum of Sq F        Pr(>F)      \n",
       "1 395    1671.898 NA       NA        NA           NA\n",
       "2 392    1458.562  3 213.3366  19.11196 1.379822e-11"
      ]
     },
     "metadata": {},
     "output_type": "display_data"
    }
   ],
   "source": [
    "linearHypothesis(reg,c(\"datos$Age=0\",\"datos$Education=0\",\"datos$Population=0\"),test=\"F\")"
   ]
  },
  {
   "cell_type": "markdown",
   "id": "255448f2",
   "metadata": {},
   "source": [
    "### Punto 5"
   ]
  },
  {
   "cell_type": "code",
   "execution_count": 38,
   "id": "7e63a8da",
   "metadata": {},
   "outputs": [
    {
     "data": {
      "text/html": [
       "0.841590609031726"
      ],
      "text/latex": [
       "0.841590609031726"
      ],
      "text/markdown": [
       "0.841590609031726"
      ],
      "text/plain": [
       "[1] 0.8415906"
      ]
     },
     "metadata": {},
     "output_type": "display_data"
    }
   ],
   "source": [
    "var=c(0,-10,0,5,0,-4,0,0)\n",
    "theta=t(var)%*%reg$coefficients\n",
    "EP5=theta/sqrt(t(var)%*%vcov(reg)%*%var)\n",
    "EP5=EP5[1,1]\n",
    "EP5"
   ]
  },
  {
   "cell_type": "code",
   "execution_count": 40,
   "id": "baf52467",
   "metadata": {},
   "outputs": [
    {
     "data": {
      "text/html": [
       "1.64875005174397"
      ],
      "text/latex": [
       "1.64875005174397"
      ],
      "text/markdown": [
       "1.64875005174397"
      ],
      "text/plain": [
       "[1] 1.64875"
      ]
     },
     "metadata": {},
     "output_type": "display_data"
    }
   ],
   "source": [
    "qt(1-(0.05),df=reg$df.residual)"
   ]
  },
  {
   "cell_type": "markdown",
   "id": "c306215e",
   "metadata": {},
   "source": [
    "### Punto 6"
   ]
  },
  {
   "cell_type": "code",
   "execution_count": 42,
   "id": "ee4ada2e",
   "metadata": {},
   "outputs": [
    {
     "name": "stdout",
     "output_type": "stream",
     "text": [
      "[1] \"Intervalo de confianza\"\n"
     ]
    },
    {
     "data": {
      "text/html": [
       "<table>\n",
       "<thead><tr><th scope=col>inferior</th><th scope=col>superior</th></tr></thead>\n",
       "<tbody>\n",
       "\t<tr><td>8.997253</td><td>9.729203</td></tr>\n",
       "</tbody>\n",
       "</table>\n"
      ],
      "text/latex": [
       "\\begin{tabular}{r|ll}\n",
       " inferior & superior\\\\\n",
       "\\hline\n",
       "\t 8.997253 & 9.729203\\\\\n",
       "\\end{tabular}\n"
      ],
      "text/markdown": [
       "\n",
       "| inferior | superior |\n",
       "|---|---|\n",
       "| 8.997253 | 9.729203 |\n",
       "\n"
      ],
      "text/plain": [
       "  inferior superior\n",
       "1 8.997253 9.729203"
      ]
     },
     "metadata": {},
     "output_type": "display_data"
    }
   ],
   "source": [
    "var<-c(1,120,95,7,300,100,45,11)\n",
    "theta6<-t(var)%*%reg$coefficients  \n",
    "\n",
    "infIC<-theta6-qt(1-0.05/2,392)*sqrt((t(var)%*%vcov(reg)%*%var))\n",
    "supIC<-theta6+qt(1-0.05/2,392)*sqrt((t(var)%*%vcov(reg)%*%var))\n",
    "print('Intervalo de confianza')\n",
    "data.frame(inferior=infIC,superior=supIC)"
   ]
  },
  {
   "cell_type": "code",
   "execution_count": 43,
   "id": "a7d0a394",
   "metadata": {},
   "outputs": [
    {
     "name": "stdout",
     "output_type": "stream",
     "text": [
      "[1] \"Intervalo de predicción\"\n"
     ]
    },
    {
     "data": {
      "text/html": [
       "<table>\n",
       "<thead><tr><th scope=col>inferior</th><th scope=col>superior</th></tr></thead>\n",
       "<tbody>\n",
       "\t<tr><td>5.553242</td><td>13.17321</td></tr>\n",
       "</tbody>\n",
       "</table>\n"
      ],
      "text/latex": [
       "\\begin{tabular}{r|ll}\n",
       " inferior & superior\\\\\n",
       "\\hline\n",
       "\t 5.553242 & 13.17321\\\\\n",
       "\\end{tabular}\n"
      ],
      "text/markdown": [
       "\n",
       "| inferior | superior |\n",
       "|---|---|\n",
       "| 5.553242 | 13.17321 |\n",
       "\n"
      ],
      "text/plain": [
       "  inferior superior\n",
       "1 5.553242 13.17321"
      ]
     },
     "metadata": {},
     "output_type": "display_data"
    }
   ],
   "source": [
    "MSE<-aov$`Mean Sq`[8]\n",
    "infIP<-theta6-qt(1-0.05/2,392)*sqrt((MSE+t(var)%*%vcov(reg)%*%var))\n",
    "supIP<-theta6+qt(1-0.05/2,392)*sqrt((MSE+t(var)%*%vcov(reg)%*%var))\n",
    "print('Intervalo de predicción')\n",
    "data.frame(inferior=infIP,superior=supIP)"
   ]
  },
  {
   "cell_type": "markdown",
   "id": "b54223de",
   "metadata": {},
   "source": [
    "### Punto 7"
   ]
  },
  {
   "cell_type": "code",
   "execution_count": 33,
   "id": "05d6bd0d",
   "metadata": {},
   "outputs": [
    {
     "data": {
      "text/html": [
       "6.52831924715117"
      ],
      "text/latex": [
       "6.52831924715117"
      ],
      "text/markdown": [
       "6.52831924715117"
      ],
      "text/plain": [
       "[1] 6.528319"
      ]
     },
     "metadata": {},
     "output_type": "display_data"
    }
   ],
   "source": [
    "var=c(1,120,95,7,300,100,45,11)-c(1,100,95,8,400,95,40,10) \n",
    "theta7=var%*%reg$coefficients\n",
    "EP7=theta7/sqrt(t(var)%*%vcov(reg)%*%var)\n",
    "EP7=EP7[1,1]\n",
    "EP7"
   ]
  },
  {
   "cell_type": "markdown",
   "id": "29a13fd5",
   "metadata": {},
   "source": [
    "### Punto 8"
   ]
  },
  {
   "cell_type": "code",
   "execution_count": 45,
   "id": "ca912685",
   "metadata": {},
   "outputs": [
    {
     "data": {
      "text/html": [
       "<table>\n",
       "<thead><tr><th scope=col>Res.Df</th><th scope=col>RSS</th><th scope=col>Df</th><th scope=col>Sum of Sq</th><th scope=col>F</th><th scope=col>Pr(&gt;F)</th></tr></thead>\n",
       "<tbody>\n",
       "\t<tr><td>394      </td><td>1464.931 </td><td>NA       </td><td>      NA </td><td>       NA</td><td>       NA</td></tr>\n",
       "\t<tr><td>392      </td><td>1458.562 </td><td> 2       </td><td>6.369131 </td><td>0.8558772</td><td>0.4257028</td></tr>\n",
       "</tbody>\n",
       "</table>\n"
      ],
      "text/latex": [
       "\\begin{tabular}{r|llllll}\n",
       " Res.Df & RSS & Df & Sum of Sq & F & Pr(>F)\\\\\n",
       "\\hline\n",
       "\t 394       & 1464.931  & NA        &       NA  &        NA &        NA\\\\\n",
       "\t 392       & 1458.562  &  2        & 6.369131  & 0.8558772 & 0.4257028\\\\\n",
       "\\end{tabular}\n"
      ],
      "text/markdown": [
       "\n",
       "| Res.Df | RSS | Df | Sum of Sq | F | Pr(>F) |\n",
       "|---|---|---|---|---|---|\n",
       "| 394       | 1464.931  | NA        |       NA  |        NA |        NA |\n",
       "| 392       | 1458.562  |  2        | 6.369131  | 0.8558772 | 0.4257028 |\n",
       "\n"
      ],
      "text/plain": [
       "  Res.Df RSS      Df Sum of Sq F         Pr(>F)   \n",
       "1 394    1464.931 NA       NA         NA        NA\n",
       "2 392    1458.562  2 6.369131  0.8558772 0.4257028"
      ]
     },
     "metadata": {},
     "output_type": "display_data"
    }
   ],
   "source": [
    "linearHypothesis(reg,c(\"2*datos$Age-datos$Education=0\",\"datos$Price+datos$CompPrice=0\"),test=\"F\")  "
   ]
  }
 ],
 "metadata": {
  "kernelspec": {
   "display_name": "R",
   "language": "R",
   "name": "ir"
  },
  "language_info": {
   "codemirror_mode": "r",
   "file_extension": ".r",
   "mimetype": "text/x-r-source",
   "name": "R",
   "pygments_lexer": "r",
   "version": "3.6.1"
  }
 },
 "nbformat": 4,
 "nbformat_minor": 5
}
